{
  "nbformat": 4,
  "nbformat_minor": 0,
  "metadata": {
    "colab": {
      "provenance": [],
      "gpuType": "T4"
    },
    "kernelspec": {
      "name": "python3",
      "display_name": "Python 3"
    },
    "language_info": {
      "name": "python"
    },
    "accelerator": "GPU"
  },
  "cells": [
    {
      "cell_type": "markdown",
      "source": [
        "21BAI1200_SHAURYA SHEKHAR"
      ],
      "metadata": {
        "id": "NGWbloX0tYyD"
      }
    },
    {
      "cell_type": "markdown",
      "source": [
        "1.Execution of Sample code"
      ],
      "metadata": {
        "id": "ZZokTiQNstzG"
      }
    },
    {
      "cell_type": "code",
      "source": [
        "import numpy as np\n",
        "import keras\n",
        "from tensorflow.keras.layers import Conv2D\n",
        "from tensorflow.keras.layers import MaxPool2D\n",
        "from keras.datasets import mnist\n",
        "from keras.models import Sequential\n",
        "from keras.layers import Dense\n",
        "from keras.layers import Dropout\n",
        "from keras.layers import Flatten\n",
        "#from keras.layers.convolutional import Convolution2D\n",
        "#from keras.layers.convolutional import MaxPooloing2D\n",
        "#from keras.utils import np_utils\n",
        "import matplotlib.pyplot as plt\n",
        "import itertools\n",
        "#loading data\n",
        "(X_train,y_train),(X_test,y_test) = mnist.load_data()\n",
        "#reshaping of image to be within dimensions accepted\n",
        "X_train = X_train.reshape(X_train.shape[0],28,28,1).astype('float32')\n",
        "X_test = X_test.reshape(X_test.shape[0],28,28,1).astype('float32')\n",
        "#normalise the inputs from 0-255 to 0-1\n",
        "X_train = X_train/255\n",
        "X_test = X_test/255"
      ],
      "metadata": {
        "colab": {
          "base_uri": "https://localhost:8080/"
        },
        "id": "-8pDj819Xuj-",
        "outputId": "f34f6a9f-67c3-43e8-fb69-fe55aa0a4fa4"
      },
      "execution_count": null,
      "outputs": [
        {
          "output_type": "stream",
          "name": "stdout",
          "text": [
            "Downloading data from https://storage.googleapis.com/tensorflow/tf-keras-datasets/mnist.npz\n",
            "11490434/11490434 [==============================] - 0s 0us/step\n"
          ]
        }
      ]
    },
    {
      "cell_type": "code",
      "source": [
        "from keras.utils import to_categorical as tg"
      ],
      "metadata": {
        "id": "6y3LOa_VaXFl"
      },
      "execution_count": null,
      "outputs": []
    },
    {
      "cell_type": "code",
      "source": [
        "#one hot encode outputs\n",
        "y_train = tg(y_train)\n",
        "y_test = tg(y_test)\n",
        "num_classes = y_test.shape[1]\n",
        "(x_train,y_train1),(x_test,y_test1) = mnist.load_data()\n",
        "fig, ax = plt.subplots(1,10, figsize=(10,10))\n",
        "for i in range(0,10):\n",
        "  ax[i].xaxis.set_visible(False)\n",
        "  ax[i].yaxis.set_visible(False)\n",
        "  ax[i].set_title(y_train1[i])\n",
        "  ax[i].imshow(x_train[i],cmap=plt.cm.binary)"
      ],
      "metadata": {
        "colab": {
          "base_uri": "https://localhost:8080/",
          "height": 125
        },
        "id": "FA72O1T1aZLb",
        "outputId": "60b80497-8bbd-4bef-d802-34e5100c26c3"
      },
      "execution_count": null,
      "outputs": [
        {
          "output_type": "display_data",
          "data": {
            "text/plain": [
              "<Figure size 1000x1000 with 10 Axes>"
            ],
            "image/png": "[encoded data removed]"
          },
          "metadata": {}
        }
      ]
    },
    {
      "cell_type": "code",
      "source": [
        "model = Sequential()\n",
        "model.add(Conv2D(32,(5,5),padding='valid',strides=(1,1),input_shape=(28,28,1),activation='relu'))\n",
        "model.add(MaxPool2D(pool_size=(2,2)))\n",
        "model.add(Dropout(0.2))\n",
        "model.add(Flatten())\n",
        "model.add(Dense(1152,activation='relu'))\n",
        "model.add(Dense(128,activation='relu'))\n",
        "model.add(Dense(10,activation='softmax'))"
      ],
      "metadata": {
        "id": "cABLbd0nadhD"
      },
      "execution_count": null,
      "outputs": []
    },
    {
      "cell_type": "code",
      "source": [
        "#compile model\n",
        "model.compile(loss='categorical_crossentropy',optimizer='adam',metrics=['accuracy'])\n",
        "model.fit(X_train,y_train,validation_data=(X_test,y_test),epochs=10,batch_size=200,verbose=2)\n",
        "scores=model.evaluate(X_test,y_test,verbose=0)\n",
        "print(\"CNN ERROR: %.2f%%\"%(100-scores[1]*100))"
      ],
      "metadata": {
        "colab": {
          "base_uri": "https://localhost:8080/"
        },
        "id": "siWzu7NQafpo",
        "outputId": "ea8e02c1-3bfb-42e4-b505-99cedd456ccf"
      },
      "execution_count": null,
      "outputs": [
        {
          "output_type": "stream",
          "name": "stdout",
          "text": [
            "Epoch 1/10\n",
            "300/300 - 11s - loss: 0.1775 - accuracy: 0.9447 - val_loss: 0.0612 - val_accuracy: 0.9797 - 11s/epoch - 38ms/step\n",
            "Epoch 2/10\n",
            "300/300 - 2s - loss: 0.0487 - accuracy: 0.9852 - val_loss: 0.0394 - val_accuracy: 0.9871 - 2s/epoch - 6ms/step\n",
            "Epoch 3/10\n",
            "300/300 - 2s - loss: 0.0319 - accuracy: 0.9897 - val_loss: 0.0324 - val_accuracy: 0.9894 - 2s/epoch - 7ms/step\n",
            "Epoch 4/10\n",
            "300/300 - 2s - loss: 0.0233 - accuracy: 0.9923 - val_loss: 0.0384 - val_accuracy: 0.9886 - 2s/epoch - 6ms/step\n",
            "Epoch 5/10\n",
            "300/300 - 2s - loss: 0.0193 - accuracy: 0.9937 - val_loss: 0.0374 - val_accuracy: 0.9873 - 2s/epoch - 6ms/step\n",
            "Epoch 6/10\n",
            "300/300 - 2s - loss: 0.0128 - accuracy: 0.9959 - val_loss: 0.0349 - val_accuracy: 0.9893 - 2s/epoch - 6ms/step\n",
            "Epoch 7/10\n",
            "300/300 - 2s - loss: 0.0104 - accuracy: 0.9963 - val_loss: 0.0332 - val_accuracy: 0.9901 - 2s/epoch - 6ms/step\n",
            "Epoch 8/10\n",
            "300/300 - 2s - loss: 0.0106 - accuracy: 0.9961 - val_loss: 0.0459 - val_accuracy: 0.9873 - 2s/epoch - 6ms/step\n",
            "Epoch 9/10\n",
            "300/300 - 2s - loss: 0.0081 - accuracy: 0.9972 - val_loss: 0.0399 - val_accuracy: 0.9895 - 2s/epoch - 6ms/step\n",
            "Epoch 10/10\n",
            "300/300 - 2s - loss: 0.0087 - accuracy: 0.9971 - val_loss: 0.0327 - val_accuracy: 0.9917 - 2s/epoch - 6ms/step\n",
            "CNN ERROR: 0.83%\n"
          ]
        }
      ]
    },
    {
      "cell_type": "markdown",
      "source": [
        "2. 5 different configurations and comparisons among them"
      ],
      "metadata": {
        "id": "c3rTOiCEhkFS"
      }
    },
    {
      "cell_type": "code",
      "source": [
        "import numpy as np\n",
        "import keras\n",
        "from tensorflow.keras.layers import Conv2D\n",
        "from tensorflow.keras.layers import MaxPool2D\n",
        "from keras.datasets import mnist\n",
        "from keras.models import Sequential\n",
        "from keras.layers import Dense\n",
        "from keras.layers import Dropout\n",
        "from keras.layers import Flatten\n",
        "import matplotlib.pyplot as plt\n",
        "import itertools\n",
        "\n",
        "# Loading data\n",
        "(X_train, y_train), (X_test, y_test) = mnist.load_data()\n",
        "\n",
        "# Reshaping of image to be within dimensions accepted\n",
        "X_train = X_train.reshape(X_train.shape[0], 28, 28, 1).astype('float32')\n",
        "X_test = X_test.reshape(X_test.shape[0], 28, 28, 1).astype('float32')\n",
        "\n",
        "# Normalise the inputs from 0-255 to 0-1\n",
        "X_train = X_train / 255\n",
        "X_test = X_test / 255\n",
        "\n",
        "from keras.utils import to_categorical as tg\n",
        "\n",
        "# One-hot encode outputs\n",
        "y_train = tg(y_train)\n",
        "y_test = tg(y_test)\n",
        "\n",
        "# Define configurations\n",
        "configurations = [\n",
        "    {\"padding\": \"valid\", \"strides\": (1, 1)},\n",
        "    {\"padding\": \"same\", \"strides\": (1, 1)},\n",
        "    {\"padding\": \"valid\", \"strides\": (2, 2)},\n",
        "    {\"padding\": \"same\", \"strides\": (2, 2)},\n",
        "    {\"padding\": \"same\", \"strides\": (3, 3)}\n",
        "]\n",
        "\n",
        "results = []\n",
        "\n",
        "for config in configurations:\n",
        "    print(f\"Training model with configuration: {config}\")\n",
        "    model = Sequential()\n",
        "    model.add(Conv2D(32, (5, 5), padding=config[\"padding\"], strides=config[\"strides\"],\n",
        "                     input_shape=(28, 28, 1), activation='relu'))\n",
        "    model.add(MaxPool2D(pool_size=(2, 2)))\n",
        "    model.add(Dropout(0.2))\n",
        "    model.add(Flatten())\n",
        "    model.add(Dense(1152, activation='relu'))\n",
        "    model.add(Dense(128, activation='relu'))\n",
        "    model.add(Dense(10, activation='softmax'))\n",
        "\n",
        "    model.compile(loss='categorical_crossentropy', optimizer='adam', metrics=['accuracy'])\n",
        "    model.fit(X_train, y_train, validation_data=(X_test, y_test), epochs=10, batch_size=200, verbose=2)\n",
        "    scores = model.evaluate(X_test, y_test, verbose=0)\n",
        "    print(f\"Configuration: {config}, Test accuracy: {scores[1]*100:.2f}%\")\n",
        "    results.append((config, scores[1]))\n",
        "\n",
        "# Print results\n",
        "for i, (config, accuracy) in enumerate(results):\n",
        "    print(f\"Configuration {i+1}: {config}, Test accuracy: {accuracy*100:.2f}%\")\n"
      ],
      "metadata": {
        "colab": {
          "base_uri": "https://localhost:8080/"
        },
        "id": "bJ7Mouzhhjk_",
        "outputId": "c28fa822-9138-435d-e4b0-322cdfa83b85"
      },
      "execution_count": 1,
      "outputs": [
        {
          "output_type": "stream",
          "name": "stdout",
          "text": [
            "Downloading data from https://storage.googleapis.com/tensorflow/tf-keras-datasets/mnist.npz\n",
            "11490434/11490434 [==============================] - 2s 0us/step\n",
            "Training model with configuration: {'padding': 'valid', 'strides': (1, 1)}\n",
            "Epoch 1/10\n",
            "300/300 - 8s - loss: 0.1689 - accuracy: 0.9491 - val_loss: 0.0557 - val_accuracy: 0.9813 - 8s/epoch - 27ms/step\n",
            "Epoch 2/10\n",
            "300/300 - 2s - loss: 0.0465 - accuracy: 0.9854 - val_loss: 0.0384 - val_accuracy: 0.9868 - 2s/epoch - 8ms/step\n",
            "Epoch 3/10\n",
            "300/300 - 2s - loss: 0.0301 - accuracy: 0.9904 - val_loss: 0.0393 - val_accuracy: 0.9870 - 2s/epoch - 8ms/step\n",
            "Epoch 4/10\n",
            "300/300 - 2s - loss: 0.0217 - accuracy: 0.9933 - val_loss: 0.0347 - val_accuracy: 0.9897 - 2s/epoch - 8ms/step\n",
            "Epoch 5/10\n",
            "300/300 - 3s - loss: 0.0154 - accuracy: 0.9949 - val_loss: 0.0318 - val_accuracy: 0.9894 - 3s/epoch - 11ms/step\n",
            "Epoch 6/10\n",
            "300/300 - 2s - loss: 0.0122 - accuracy: 0.9959 - val_loss: 0.0369 - val_accuracy: 0.9891 - 2s/epoch - 6ms/step\n",
            "Epoch 7/10\n",
            "300/300 - 2s - loss: 0.0113 - accuracy: 0.9963 - val_loss: 0.0339 - val_accuracy: 0.9903 - 2s/epoch - 6ms/step\n",
            "Epoch 8/10\n",
            "300/300 - 2s - loss: 0.0091 - accuracy: 0.9970 - val_loss: 0.0365 - val_accuracy: 0.9898 - 2s/epoch - 6ms/step\n",
            "Epoch 9/10\n",
            "300/300 - 2s - loss: 0.0074 - accuracy: 0.9976 - val_loss: 0.0356 - val_accuracy: 0.9910 - 2s/epoch - 6ms/step\n",
            "Epoch 10/10\n",
            "300/300 - 2s - loss: 0.0071 - accuracy: 0.9977 - val_loss: 0.0410 - val_accuracy: 0.9891 - 2s/epoch - 6ms/step\n",
            "Configuration: {'padding': 'valid', 'strides': (1, 1)}, Test accuracy: 98.91%\n",
            "Training model with configuration: {'padding': 'same', 'strides': (1, 1)}\n",
            "Epoch 1/10\n",
            "300/300 - 4s - loss: 0.1747 - accuracy: 0.9466 - val_loss: 0.0670 - val_accuracy: 0.9780 - 4s/epoch - 13ms/step\n",
            "Epoch 2/10\n",
            "300/300 - 2s - loss: 0.0514 - accuracy: 0.9839 - val_loss: 0.0365 - val_accuracy: 0.9875 - 2s/epoch - 7ms/step\n",
            "Epoch 3/10\n",
            "300/300 - 2s - loss: 0.0335 - accuracy: 0.9893 - val_loss: 0.0371 - val_accuracy: 0.9865 - 2s/epoch - 8ms/step\n",
            "Epoch 4/10\n",
            "300/300 - 2s - loss: 0.0232 - accuracy: 0.9925 - val_loss: 0.0321 - val_accuracy: 0.9904 - 2s/epoch - 8ms/step\n",
            "Epoch 5/10\n",
            "300/300 - 2s - loss: 0.0167 - accuracy: 0.9945 - val_loss: 0.0329 - val_accuracy: 0.9896 - 2s/epoch - 7ms/step\n",
            "Epoch 6/10\n",
            "300/300 - 2s - loss: 0.0136 - accuracy: 0.9953 - val_loss: 0.0363 - val_accuracy: 0.9884 - 2s/epoch - 7ms/step\n",
            "Epoch 7/10\n",
            "300/300 - 2s - loss: 0.0112 - accuracy: 0.9962 - val_loss: 0.0321 - val_accuracy: 0.9894 - 2s/epoch - 7ms/step\n",
            "Epoch 8/10\n",
            "300/300 - 2s - loss: 0.0095 - accuracy: 0.9970 - val_loss: 0.0386 - val_accuracy: 0.9879 - 2s/epoch - 7ms/step\n",
            "Epoch 9/10\n",
            "300/300 - 2s - loss: 0.0088 - accuracy: 0.9969 - val_loss: 0.0371 - val_accuracy: 0.9898 - 2s/epoch - 8ms/step\n",
            "Epoch 10/10\n",
            "300/300 - 2s - loss: 0.0065 - accuracy: 0.9979 - val_loss: 0.0379 - val_accuracy: 0.9892 - 2s/epoch - 7ms/step\n",
            "Configuration: {'padding': 'same', 'strides': (1, 1)}, Test accuracy: 98.92%\n",
            "Training model with configuration: {'padding': 'valid', 'strides': (2, 2)}\n",
            "Epoch 1/10\n",
            "300/300 - 3s - loss: 0.2368 - accuracy: 0.9275 - val_loss: 0.0685 - val_accuracy: 0.9779 - 3s/epoch - 9ms/step\n",
            "Epoch 2/10\n",
            "300/300 - 1s - loss: 0.0708 - accuracy: 0.9778 - val_loss: 0.0414 - val_accuracy: 0.9865 - 1s/epoch - 3ms/step\n",
            "Epoch 3/10\n",
            "300/300 - 1s - loss: 0.0508 - accuracy: 0.9839 - val_loss: 0.0401 - val_accuracy: 0.9868 - 1s/epoch - 4ms/step\n",
            "Epoch 4/10\n",
            "300/300 - 1s - loss: 0.0387 - accuracy: 0.9876 - val_loss: 0.0411 - val_accuracy: 0.9862 - 1s/epoch - 3ms/step\n",
            "Epoch 5/10\n",
            "300/300 - 1s - loss: 0.0301 - accuracy: 0.9904 - val_loss: 0.0340 - val_accuracy: 0.9885 - 1s/epoch - 5ms/step\n",
            "Epoch 6/10\n",
            "300/300 - 1s - loss: 0.0234 - accuracy: 0.9924 - val_loss: 0.0322 - val_accuracy: 0.9877 - 1s/epoch - 5ms/step\n",
            "Epoch 7/10\n",
            "300/300 - 1s - loss: 0.0222 - accuracy: 0.9925 - val_loss: 0.0338 - val_accuracy: 0.9895 - 1s/epoch - 4ms/step\n",
            "Epoch 8/10\n",
            "300/300 - 1s - loss: 0.0193 - accuracy: 0.9935 - val_loss: 0.0312 - val_accuracy: 0.9896 - 996ms/epoch - 3ms/step\n",
            "Epoch 9/10\n",
            "300/300 - 1s - loss: 0.0161 - accuracy: 0.9946 - val_loss: 0.0325 - val_accuracy: 0.9903 - 1s/epoch - 3ms/step\n",
            "Epoch 10/10\n",
            "300/300 - 1s - loss: 0.0144 - accuracy: 0.9952 - val_loss: 0.0315 - val_accuracy: 0.9904 - 1s/epoch - 4ms/step\n",
            "Configuration: {'padding': 'valid', 'strides': (2, 2)}, Test accuracy: 99.04%\n",
            "Training model with configuration: {'padding': 'same', 'strides': (2, 2)}\n",
            "Epoch 1/10\n",
            "300/300 - 3s - loss: 0.2430 - accuracy: 0.9270 - val_loss: 0.0655 - val_accuracy: 0.9796 - 3s/epoch - 9ms/step\n",
            "Epoch 2/10\n",
            "300/300 - 1s - loss: 0.0737 - accuracy: 0.9770 - val_loss: 0.0439 - val_accuracy: 0.9843 - 1s/epoch - 4ms/step\n",
            "Epoch 3/10\n",
            "300/300 - 1s - loss: 0.0496 - accuracy: 0.9840 - val_loss: 0.0361 - val_accuracy: 0.9877 - 1s/epoch - 4ms/step\n",
            "Epoch 4/10\n",
            "300/300 - 1s - loss: 0.0375 - accuracy: 0.9880 - val_loss: 0.0391 - val_accuracy: 0.9869 - 1s/epoch - 4ms/step\n",
            "Epoch 5/10\n",
            "300/300 - 1s - loss: 0.0306 - accuracy: 0.9896 - val_loss: 0.0292 - val_accuracy: 0.9905 - 1s/epoch - 4ms/step\n",
            "Epoch 6/10\n",
            "300/300 - 1s - loss: 0.0251 - accuracy: 0.9914 - val_loss: 0.0271 - val_accuracy: 0.9902 - 1s/epoch - 5ms/step\n",
            "Epoch 7/10\n",
            "300/300 - 1s - loss: 0.0208 - accuracy: 0.9930 - val_loss: 0.0333 - val_accuracy: 0.9893 - 1s/epoch - 4ms/step\n",
            "Epoch 8/10\n",
            "300/300 - 1s - loss: 0.0180 - accuracy: 0.9940 - val_loss: 0.0264 - val_accuracy: 0.9915 - 1s/epoch - 4ms/step\n",
            "Epoch 9/10\n",
            "300/300 - 1s - loss: 0.0154 - accuracy: 0.9951 - val_loss: 0.0299 - val_accuracy: 0.9903 - 1s/epoch - 4ms/step\n",
            "Epoch 10/10\n",
            "300/300 - 1s - loss: 0.0121 - accuracy: 0.9960 - val_loss: 0.0389 - val_accuracy: 0.9875 - 1s/epoch - 4ms/step\n",
            "Configuration: {'padding': 'same', 'strides': (2, 2)}, Test accuracy: 98.75%\n",
            "Training model with configuration: {'padding': 'same', 'strides': (3, 3)}\n",
            "Epoch 1/10\n",
            "300/300 - 3s - loss: 0.3339 - accuracy: 0.8998 - val_loss: 0.0968 - val_accuracy: 0.9688 - 3s/epoch - 8ms/step\n",
            "Epoch 2/10\n",
            "300/300 - 1s - loss: 0.1152 - accuracy: 0.9633 - val_loss: 0.0701 - val_accuracy: 0.9759 - 1s/epoch - 3ms/step\n",
            "Epoch 3/10\n",
            "300/300 - 1s - loss: 0.0850 - accuracy: 0.9730 - val_loss: 0.0580 - val_accuracy: 0.9806 - 1s/epoch - 4ms/step\n",
            "Epoch 4/10\n",
            "300/300 - 1s - loss: 0.0685 - accuracy: 0.9777 - val_loss: 0.0455 - val_accuracy: 0.9841 - 1s/epoch - 5ms/step\n",
            "Epoch 5/10\n",
            "300/300 - 1s - loss: 0.0598 - accuracy: 0.9811 - val_loss: 0.0404 - val_accuracy: 0.9857 - 1s/epoch - 4ms/step\n",
            "Epoch 6/10\n",
            "300/300 - 1s - loss: 0.0487 - accuracy: 0.9840 - val_loss: 0.0385 - val_accuracy: 0.9866 - 1s/epoch - 4ms/step\n",
            "Epoch 7/10\n",
            "300/300 - 1s - loss: 0.0424 - accuracy: 0.9860 - val_loss: 0.0365 - val_accuracy: 0.9869 - 985ms/epoch - 3ms/step\n",
            "Epoch 8/10\n",
            "300/300 - 1s - loss: 0.0380 - accuracy: 0.9877 - val_loss: 0.0385 - val_accuracy: 0.9873 - 1s/epoch - 4ms/step\n",
            "Epoch 9/10\n",
            "300/300 - 1s - loss: 0.0340 - accuracy: 0.9886 - val_loss: 0.0410 - val_accuracy: 0.9858 - 1s/epoch - 4ms/step\n",
            "Epoch 10/10\n",
            "300/300 - 1s - loss: 0.0300 - accuracy: 0.9900 - val_loss: 0.0362 - val_accuracy: 0.9872 - 1s/epoch - 3ms/step\n",
            "Configuration: {'padding': 'same', 'strides': (3, 3)}, Test accuracy: 98.72%\n",
            "Configuration 1: {'padding': 'valid', 'strides': (1, 1)}, Test accuracy: 98.91%\n",
            "Configuration 2: {'padding': 'same', 'strides': (1, 1)}, Test accuracy: 98.92%\n",
            "Configuration 3: {'padding': 'valid', 'strides': (2, 2)}, Test accuracy: 99.04%\n",
            "Configuration 4: {'padding': 'same', 'strides': (2, 2)}, Test accuracy: 98.75%\n",
            "Configuration 5: {'padding': 'same', 'strides': (3, 3)}, Test accuracy: 98.72%\n"
          ]
        }
      ]
    },
    {
      "cell_type": "markdown",
      "source": [
        "3. Visulaizing through filter and features"
      ],
      "metadata": {
        "id": "bvzIMzNQmSX6"
      }
    },
    {
      "cell_type": "code",
      "source": [
        "import numpy as np\n",
        "import matplotlib.pyplot as plt\n",
        "from keras.datasets import mnist\n",
        "from keras.models import Sequential\n",
        "from keras.layers import Conv2D, MaxPooling2D, Flatten, Dense\n",
        "from keras.utils import to_categorical\n",
        "\n",
        "# Load MNIST dataset\n",
        "(X_train, y_train), (X_test, y_test) = mnist.load_data()\n",
        "\n",
        "# Reshape and normalize input data\n",
        "X_train = X_train.reshape(X_train.shape[0], 28, 28, 1).astype('float32') / 255\n",
        "X_test = X_test.reshape(X_test.shape[0], 28, 28, 1).astype('float32') / 255\n",
        "\n",
        "# One-hot encode target labels\n",
        "y_train = to_categorical(y_train)\n",
        "y_test = to_categorical(y_test)\n",
        "\n",
        "# Define CNN architecture\n",
        "model = Sequential()\n",
        "model.add(Conv2D(32, (3, 3), activation='relu', input_shape=(28, 28, 1)))\n",
        "model.add(MaxPooling2D((2, 2)))\n",
        "model.add(Conv2D(64, (3, 3), activation='relu'))\n",
        "model.add(MaxPooling2D((2, 2)))\n",
        "model.add(Conv2D(64, (3, 3), activation='relu'))\n",
        "model.add(Flatten())\n",
        "model.add(Dense(64, activation='relu'))\n",
        "model.add(Dense(10, activation='softmax'))\n",
        "\n",
        "# Compile the model\n",
        "model.compile(optimizer='adam',\n",
        "              loss='categorical_crossentropy',\n",
        "              metrics=['accuracy'])\n",
        "\n",
        "# Train the model\n",
        "model.fit(X_train, y_train, epochs=5, batch_size=64, validation_data=(X_test, y_test))\n",
        "\n",
        "# Get the first Conv2D layer\n",
        "conv_layer = model.layers[0]\n",
        "\n",
        "# Get the filters (weights) from the layer\n",
        "filters = conv_layer.get_weights()[0]\n",
        "\n",
        "# Normalize the filters to display\n",
        "filters = (filters - np.min(filters)) / (np.max(filters) - np.min(filters))\n",
        "\n",
        "# Plot the filters\n",
        "fig, axes = plt.subplots(4, 8, figsize=(16, 8))\n",
        "for i, ax in enumerate(axes.flat):\n",
        "    ax.imshow(filters[:, :, 0, i], cmap='gray')\n",
        "    ax.axis('off')\n",
        "plt.show()\n",
        "\n",
        "# Get the output of the first Conv2D layer\n",
        "output_layer = model.layers[0]\n",
        "output_model = Sequential()\n",
        "output_model.add(output_layer)\n",
        "output_model.compile(optimizer='adam', loss='categorical_crossentropy')\n",
        "\n",
        "# Predict on a single image from the test set\n",
        "image = X_test[0].reshape(1, 28, 28, 1)\n",
        "feature_maps = output_model.predict(image)\n",
        "\n",
        "# Plot the feature maps\n",
        "fig, axes = plt.subplots(4, 8, figsize=(16, 8))\n",
        "for i, ax in enumerate(axes.flat):\n",
        "    ax.imshow(feature_maps[0, :, :, i], cmap='viridis')\n",
        "    ax.axis('off')\n",
        "plt.show()\n"
      ],
      "metadata": {
        "colab": {
          "base_uri": "https://localhost:8080/",
          "height": 1000
        },
        "id": "B9e1QTDGmRyZ",
        "outputId": "adc18830-0ab3-41a4-fa76-b364e3760272"
      },
      "execution_count": 2,
      "outputs": [
        {
          "output_type": "stream",
          "name": "stdout",
          "text": [
            "Epoch 1/5\n",
            "938/938 [==============================] - 8s 6ms/step - loss: 0.1852 - accuracy: 0.9441 - val_loss: 0.0526 - val_accuracy: 0.9836\n",
            "Epoch 2/5\n",
            "938/938 [==============================] - 4s 5ms/step - loss: 0.0490 - accuracy: 0.9846 - val_loss: 0.0595 - val_accuracy: 0.9807\n",
            "Epoch 3/5\n",
            "938/938 [==============================] - 8s 8ms/step - loss: 0.0356 - accuracy: 0.9885 - val_loss: 0.0388 - val_accuracy: 0.9878\n",
            "Epoch 4/5\n",
            "938/938 [==============================] - 5s 5ms/step - loss: 0.0284 - accuracy: 0.9911 - val_loss: 0.0468 - val_accuracy: 0.9870\n",
            "Epoch 5/5\n",
            "938/938 [==============================] - 5s 6ms/step - loss: 0.0226 - accuracy: 0.9929 - val_loss: 0.0319 - val_accuracy: 0.9896\n"
          ]
        },
        {
          "output_type": "display_data",
          "data": {
            "text/plain": [
              "<Figure size 1600x800 with 32 Axes>"
            ],
            "image/png": "[encoded data removed]"
          },
          "metadata": {}
        },
        {
          "output_type": "stream",
          "name": "stdout",
          "text": [
            "1/1 [==============================] - 0s 112ms/step\n"
          ]
        },
        {
          "output_type": "display_data",
          "data": {
            "text/plain": [
              "<Figure size 1600x800 with 32 Axes>"
            ],
            "image/png": "[encoded data removed]"
          },
          "metadata": {}
        }
      ]
    },
    {
      "cell_type": "markdown",
      "source": [
        "4. Comparing CNN model with fully connected Network."
      ],
      "metadata": {
        "id": "lnPn_cmknS6q"
      }
    },
    {
      "cell_type": "code",
      "source": [
        "import numpy as np\n",
        "from keras.datasets import mnist\n",
        "from keras.models import Sequential\n",
        "from keras.layers import Conv2D, MaxPooling2D, Flatten, Dense\n",
        "from keras.utils import to_categorical\n",
        "\n",
        "# Load MNIST dataset\n",
        "(X_train, y_train), (X_test, y_test) = mnist.load_data()\n",
        "\n",
        "# Reshape and normalize input data\n",
        "X_train = X_train.reshape(X_train.shape[0], 28, 28, 1).astype('float32') / 255\n",
        "X_test = X_test.reshape(X_test.shape[0], 28, 28, 1).astype('float32') / 255\n",
        "\n",
        "# One-hot encode target labels\n",
        "y_train = to_categorical(y_train)\n",
        "y_test = to_categorical(y_test)\n",
        "\n",
        "# Define CNN architecture\n",
        "cnn_model = Sequential()\n",
        "cnn_model.add(Conv2D(32, (3, 3), activation='relu', input_shape=(28, 28, 1)))\n",
        "cnn_model.add(MaxPooling2D((2, 2)))\n",
        "cnn_model.add(Conv2D(64, (3, 3), activation='relu'))\n",
        "cnn_model.add(MaxPooling2D((2, 2)))\n",
        "cnn_model.add(Conv2D(64, (3, 3), activation='relu'))\n",
        "cnn_model.add(Flatten())\n",
        "cnn_model.add(Dense(64, activation='relu'))\n",
        "cnn_model.add(Dense(10, activation='softmax'))\n",
        "\n",
        "# Compile the CNN model\n",
        "cnn_model.compile(optimizer='adam',\n",
        "                  loss='categorical_crossentropy',\n",
        "                  metrics=['accuracy'])\n",
        "\n",
        "# Train the CNN model\n",
        "cnn_model.fit(X_train, y_train, epochs=5, batch_size=64, validation_data=(X_test, y_test))\n",
        "\n",
        "# Define FCN architecture\n",
        "fcn_model = Sequential()\n",
        "fcn_model.add(Flatten(input_shape=(28, 28, 1)))\n",
        "fcn_model.add(Dense(128, activation='relu'))\n",
        "fcn_model.add(Dense(10, activation='softmax'))\n",
        "\n",
        "# Compile the FCN model\n",
        "fcn_model.compile(optimizer='adam',\n",
        "                  loss='categorical_crossentropy',\n",
        "                  metrics=['accuracy'])\n",
        "\n",
        "# Train the FCN model\n",
        "fcn_model.fit(X_train, y_train, epochs=5, batch_size=64, validation_data=(X_test, y_test))\n",
        "\n",
        "# Evaluate CNN model on test data\n",
        "cnn_scores = cnn_model.evaluate(X_test, y_test, verbose=0)\n",
        "print(f\"CNN Test Loss: {cnn_scores[0]}\")\n",
        "print(f\"CNN Test Accuracy: {cnn_scores[1]}\")\n",
        "\n",
        "# Evaluate FCN model on test data\n",
        "fcn_scores = fcn_model.evaluate(X_test, y_test, verbose=0)\n",
        "print(f\"FCN Test Loss: {fcn_scores[0]}\")\n",
        "print(f\"FCN Test Accuracy: {fcn_scores[1]}\")\n"
      ],
      "metadata": {
        "colab": {
          "base_uri": "https://localhost:8080/"
        },
        "id": "X9C79FysnT8z",
        "outputId": "6cc139bd-5ffd-4cf5-8017-1ebb4994c7a0"
      },
      "execution_count": 3,
      "outputs": [
        {
          "output_type": "stream",
          "name": "stdout",
          "text": [
            "Epoch 1/5\n",
            "938/938 [==============================] - 6s 5ms/step - loss: 0.2005 - accuracy: 0.9386 - val_loss: 0.0502 - val_accuracy: 0.9849\n",
            "Epoch 2/5\n",
            "938/938 [==============================] - 5s 6ms/step - loss: 0.0556 - accuracy: 0.9826 - val_loss: 0.0349 - val_accuracy: 0.9894\n",
            "Epoch 3/5\n",
            "938/938 [==============================] - 5s 5ms/step - loss: 0.0389 - accuracy: 0.9880 - val_loss: 0.0282 - val_accuracy: 0.9910\n",
            "Epoch 4/5\n",
            "938/938 [==============================] - 5s 5ms/step - loss: 0.0298 - accuracy: 0.9908 - val_loss: 0.0361 - val_accuracy: 0.9889\n",
            "Epoch 5/5\n",
            "938/938 [==============================] - 5s 5ms/step - loss: 0.0245 - accuracy: 0.9922 - val_loss: 0.0299 - val_accuracy: 0.9904\n",
            "Epoch 1/5\n",
            "938/938 [==============================] - 5s 4ms/step - loss: 0.2988 - accuracy: 0.9165 - val_loss: 0.1582 - val_accuracy: 0.9529\n",
            "Epoch 2/5\n",
            "938/938 [==============================] - 3s 3ms/step - loss: 0.1347 - accuracy: 0.9617 - val_loss: 0.1112 - val_accuracy: 0.9675\n",
            "Epoch 3/5\n",
            "938/938 [==============================] - 3s 3ms/step - loss: 0.0952 - accuracy: 0.9719 - val_loss: 0.0939 - val_accuracy: 0.9709\n",
            "Epoch 4/5\n",
            "938/938 [==============================] - 4s 4ms/step - loss: 0.0725 - accuracy: 0.9784 - val_loss: 0.0875 - val_accuracy: 0.9736\n",
            "Epoch 5/5\n",
            "938/938 [==============================] - 3s 4ms/step - loss: 0.0572 - accuracy: 0.9828 - val_loss: 0.0835 - val_accuracy: 0.9745\n",
            "CNN Test Loss: 0.029868215322494507\n",
            "CNN Test Accuracy: 0.9904000163078308\n",
            "FCN Test Loss: 0.08353075385093689\n",
            "FCN Test Accuracy: 0.9745000004768372\n"
          ]
        }
      ]
    },
    {
      "cell_type": "markdown",
      "source": [
        "Dataset:Fashion_Mnist"
      ],
      "metadata": {
        "id": "YUYm2GBHn3xZ"
      }
    },
    {
      "cell_type": "markdown",
      "source": [],
      "metadata": {
        "id": "5FC6ZqRbmRT8"
      }
    },
    {
      "cell_type": "code",
      "source": [
        "import numpy as np\n",
        "from keras.datasets import fashion_mnist\n",
        "from keras.models import Sequential\n",
        "from keras.layers import Conv2D, MaxPooling2D, Flatten, Dense\n",
        "from keras.utils import to_categorical\n",
        "\n",
        "# Load Fashion MNIST dataset\n",
        "(X_train, y_train), (X_test, y_test) = fashion_mnist.load_data()\n",
        "\n",
        "# Reshape and normalize input data\n",
        "X_train = X_train.reshape(X_train.shape[0], 28, 28, 1).astype('float32') / 255\n",
        "X_test = X_test.reshape(X_test.shape[0], 28, 28, 1).astype('float32') / 255\n",
        "\n",
        "# One-hot encode target labels\n",
        "y_train = to_categorical(y_train)\n",
        "y_test = to_categorical(y_test)\n",
        "\n",
        "# Define CNN architecture\n",
        "cnn_model = Sequential()\n",
        "cnn_model.add(Conv2D(32, (3, 3), activation='relu', input_shape=(28, 28, 1)))\n",
        "cnn_model.add(MaxPooling2D((2, 2)))\n",
        "cnn_model.add(Conv2D(64, (3, 3), activation='relu'))\n",
        "cnn_model.add(MaxPooling2D((2, 2)))\n",
        "cnn_model.add(Conv2D(64, (3, 3), activation='relu'))\n",
        "cnn_model.add(Flatten())\n",
        "cnn_model.add(Dense(64, activation='relu'))\n",
        "cnn_model.add(Dense(10, activation='softmax'))\n",
        "\n",
        "# Compile the CNN model\n",
        "cnn_model.compile(optimizer='adam',\n",
        "                  loss='categorical_crossentropy',\n",
        "                  metrics=['accuracy'])\n",
        "\n",
        "# Train the CNN model\n",
        "cnn_model.fit(X_train, y_train, epochs=5, batch_size=64, validation_data=(X_test, y_test))\n",
        "\n",
        "# Define FCN architecture\n",
        "fcn_model = Sequential()\n",
        "fcn_model.add(Flatten(input_shape=(28, 28, 1)))\n",
        "fcn_model.add(Dense(128, activation='relu'))\n",
        "fcn_model.add(Dense(10, activation='softmax'))\n",
        "\n",
        "# Compile the FCN model\n",
        "fcn_model.compile(optimizer='adam',\n",
        "                  loss='categorical_crossentropy',\n",
        "                  metrics=['accuracy'])\n",
        "\n",
        "# Train the FCN model\n",
        "fcn_model.fit(X_train, y_train, epochs=5, batch_size=64, validation_data=(X_test, y_test))\n",
        "\n",
        "# Evaluate CNN model on test data\n",
        "cnn_scores = cnn_model.evaluate(X_test, y_test, verbose=0)\n",
        "print(f\"CNN Test Loss: {cnn_scores[0]}\")\n",
        "print(f\"CNN Test Accuracy: {cnn_scores[1]}\")\n",
        "\n",
        "# Evaluate FCN model on test data\n",
        "fcn_scores = fcn_model.evaluate(X_test, y_test, verbose=0)\n",
        "print(f\"FCN Test Loss: {fcn_scores[0]}\")\n",
        "print(f\"FCN Test Accuracy: {fcn_scores[1]}\")\n"
      ],
      "metadata": {
        "colab": {
          "base_uri": "https://localhost:8080/"
        },
        "id": "ory4a_CFn7su",
        "outputId": "7d5ce34b-882b-4f42-8d6a-e5a61f83d89d"
      },
      "execution_count": 4,
      "outputs": [
        {
          "output_type": "stream",
          "name": "stdout",
          "text": [
            "Downloading data from https://storage.googleapis.com/tensorflow/tf-keras-datasets/train-labels-idx1-ubyte.gz\n",
            "29515/29515 [==============================] - 0s 1us/step\n",
            "Downloading data from https://storage.googleapis.com/tensorflow/tf-keras-datasets/train-images-idx3-ubyte.gz\n",
            "26421880/26421880 [==============================] - 2s 0us/step\n",
            "Downloading data from https://storage.googleapis.com/tensorflow/tf-keras-datasets/t10k-labels-idx1-ubyte.gz\n",
            "5148/5148 [==============================] - 0s 0us/step\n",
            "Downloading data from https://storage.googleapis.com/tensorflow/tf-keras-datasets/t10k-images-idx3-ubyte.gz\n",
            "4422102/4422102 [==============================] - 1s 0us/step\n",
            "Epoch 1/5\n",
            "938/938 [==============================] - 7s 6ms/step - loss: 0.5530 - accuracy: 0.7967 - val_loss: 0.3941 - val_accuracy: 0.8529\n",
            "Epoch 2/5\n",
            "938/938 [==============================] - 5s 5ms/step - loss: 0.3466 - accuracy: 0.8749 - val_loss: 0.3375 - val_accuracy: 0.8786\n",
            "Epoch 3/5\n",
            "938/938 [==============================] - 5s 5ms/step - loss: 0.2990 - accuracy: 0.8917 - val_loss: 0.3128 - val_accuracy: 0.8863\n",
            "Epoch 4/5\n",
            "938/938 [==============================] - 4s 5ms/step - loss: 0.2677 - accuracy: 0.9024 - val_loss: 0.2980 - val_accuracy: 0.8932\n",
            "Epoch 5/5\n",
            "938/938 [==============================] - 4s 5ms/step - loss: 0.2427 - accuracy: 0.9105 - val_loss: 0.2701 - val_accuracy: 0.9024\n",
            "Epoch 1/5\n",
            "938/938 [==============================] - 5s 4ms/step - loss: 0.5201 - accuracy: 0.8205 - val_loss: 0.4564 - val_accuracy: 0.8376\n",
            "Epoch 2/5\n",
            "938/938 [==============================] - 3s 3ms/step - loss: 0.3893 - accuracy: 0.8626 - val_loss: 0.3990 - val_accuracy: 0.8583\n",
            "Epoch 3/5\n",
            "938/938 [==============================] - 3s 3ms/step - loss: 0.3494 - accuracy: 0.8738 - val_loss: 0.3878 - val_accuracy: 0.8609\n",
            "Epoch 4/5\n",
            "938/938 [==============================] - 4s 4ms/step - loss: 0.3216 - accuracy: 0.8810 - val_loss: 0.3671 - val_accuracy: 0.8650\n",
            "Epoch 5/5\n",
            "938/938 [==============================] - 3s 3ms/step - loss: 0.3029 - accuracy: 0.8895 - val_loss: 0.3598 - val_accuracy: 0.8713\n",
            "CNN Test Loss: 0.2700653672218323\n",
            "CNN Test Accuracy: 0.902400016784668\n",
            "FCN Test Loss: 0.3597991466522217\n",
            "FCN Test Accuracy: 0.8712999820709229\n"
          ]
        }
      ]
    }
  ]
}