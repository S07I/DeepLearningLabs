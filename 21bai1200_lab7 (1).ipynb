{
  "nbformat": 4,
  "nbformat_minor": 0,
  "metadata": {
    "colab": {
      "provenance": []
    },
    "kernelspec": {
      "name": "python3",
      "display_name": "Python 3"
    },
    "language_info": {
      "name": "python"
    }
  },
  "cells": [
    {
      "cell_type": "markdown",
      "source": [
        "1. Vanilla AutoEncoder and Decoder"
      ],
      "metadata": {
        "id": "vVLjKSxpVmgm"
      }
    },
    {
      "cell_type": "code",
      "source": [
        "from keras.datasets import mnist\n",
        "import numpy as np\n",
        "(x_train, _),(x_test, _)=mnist.load_data()"
      ],
      "metadata": {
        "colab": {
          "base_uri": "https://localhost:8080/"
        },
        "id": "-2HjxhFIVoB6",
        "outputId": "9471376d-d01c-4eaa-dcdf-2bdef8d40ce6"
      },
      "execution_count": null,
      "outputs": [
        {
          "output_type": "stream",
          "name": "stdout",
          "text": [
            "Downloading data from https://storage.googleapis.com/tensorflow/tf-keras-datasets/mnist.npz\n",
            "11490434/11490434 [==============================] - 0s 0us/step\n"
          ]
        }
      ]
    },
    {
      "cell_type": "code",
      "source": [
        "x_train= x_train.astype('float32')/255\n",
        "x_test = x_test.astype('float32')/255\n",
        "x_train=x_train.reshape((len(x_train),np.prod(x_train.shape[1:])))\n",
        "\n"
      ],
      "metadata": {
        "id": "rxj-9OUqWJUz"
      },
      "execution_count": null,
      "outputs": []
    },
    {
      "cell_type": "code",
      "source": [
        "x_test=x_test.reshape((len(x_test),np.prod(x_test.shape[1:])))\n",
        "print(x_train.shape)\n",
        "print(x_test.shape)"
      ],
      "metadata": {
        "colab": {
          "base_uri": "https://localhost:8080/"
        },
        "id": "ojsEGyL3WtKo",
        "outputId": "70798f08-242f-4f58-efac-1524c1bac753"
      },
      "execution_count": null,
      "outputs": [
        {
          "output_type": "stream",
          "name": "stdout",
          "text": [
            "(60000, 784)\n",
            "(10000, 784)\n"
          ]
        }
      ]
    },
    {
      "cell_type": "code",
      "source": [
        "import keras\n",
        "from keras import layers\n",
        "from keras.layers import Input,Dense\n",
        "encoding_dim=32\n",
        "input_img=keras.Input(shape=(784,))\n",
        "encoded=layers.Dense(encoding_dim,activation='relu')(input_img)\n",
        "decoded =layers.Dense(784, activation='sigmoid')(encoded)\n"
      ],
      "metadata": {
        "id": "HmYLzULSXGSI"
      },
      "execution_count": null,
      "outputs": []
    },
    {
      "cell_type": "code",
      "source": [
        "autoencoder=keras.Model(input_img, decoded)\n"
      ],
      "metadata": {
        "id": "5EpEZKh5X7Xd"
      },
      "execution_count": null,
      "outputs": []
    },
    {
      "cell_type": "code",
      "source": [
        "encoder=keras.Model(input_img,encoded)\n",
        "encoded_input= keras.Input(shape=(encoding_dim,))"
      ],
      "metadata": {
        "id": "7-XUYGzYaNMn"
      },
      "execution_count": null,
      "outputs": []
    },
    {
      "cell_type": "code",
      "source": [
        "decoder_layer=autoencoder.layers[-1]"
      ],
      "metadata": {
        "id": "_MKp8HmGaUrd"
      },
      "execution_count": null,
      "outputs": []
    },
    {
      "cell_type": "code",
      "source": [
        "decoder=keras.Model(encoded_input,decoder_layer(encoded_input))\n",
        "autoencoder.compile(optimizer='adam',loss='binary_crossentropy')\n",
        "autoencoder.fit(x_train,x_train,epochs=10,batch_size=256,shuffle=True,validation_data=(x_test,x_test))"
      ],
      "metadata": {
        "colab": {
          "base_uri": "https://localhost:8080/"
        },
        "id": "fl0MBXcsabX9",
        "outputId": "6dfee115-fb9b-4761-859b-c9a7cb6d3e53"
      },
      "execution_count": null,
      "outputs": [
        {
          "output_type": "stream",
          "name": "stdout",
          "text": [
            "Epoch 1/10\n",
            "235/235 [==============================] - 2s 5ms/step - loss: 0.2747 - val_loss: 0.1849\n",
            "Epoch 2/10\n",
            "235/235 [==============================] - 1s 4ms/step - loss: 0.1677 - val_loss: 0.1512\n",
            "Epoch 3/10\n",
            "235/235 [==============================] - 1s 5ms/step - loss: 0.1428 - val_loss: 0.1329\n",
            "Epoch 4/10\n",
            "235/235 [==============================] - 1s 5ms/step - loss: 0.1279 - val_loss: 0.1209\n",
            "Epoch 5/10\n",
            "235/235 [==============================] - 1s 5ms/step - loss: 0.1180 - val_loss: 0.1129\n",
            "Epoch 6/10\n",
            "235/235 [==============================] - 1s 5ms/step - loss: 0.1113 - val_loss: 0.1073\n",
            "Epoch 7/10\n",
            "235/235 [==============================] - 2s 7ms/step - loss: 0.1065 - val_loss: 0.1033\n",
            "Epoch 8/10\n",
            "235/235 [==============================] - 1s 5ms/step - loss: 0.1029 - val_loss: 0.1001\n",
            "Epoch 9/10\n",
            "235/235 [==============================] - 1s 5ms/step - loss: 0.1002 - val_loss: 0.0978\n",
            "Epoch 10/10\n",
            "235/235 [==============================] - 1s 5ms/step - loss: 0.0982 - val_loss: 0.0961\n"
          ]
        },
        {
          "output_type": "execute_result",
          "data": {
            "text/plain": [
              "<keras.src.callbacks.History at 0x7af09582a4a0>"
            ]
          },
          "metadata": {},
          "execution_count": 16
        }
      ]
    },
    {
      "cell_type": "code",
      "source": [
        "encoded_imgs=encoder.predict(x_test)\n",
        "decoded_imgs=decoder.predict(encoded_imgs)"
      ],
      "metadata": {
        "colab": {
          "base_uri": "https://localhost:8080/"
        },
        "id": "EAYuBNuLbLwo",
        "outputId": "2275d81c-95cc-493c-b53d-5eeba8d680aa"
      },
      "execution_count": null,
      "outputs": [
        {
          "output_type": "stream",
          "name": "stdout",
          "text": [
            "313/313 [==============================] - 0s 859us/step\n",
            "313/313 [==============================] - 0s 918us/step\n"
          ]
        }
      ]
    },
    {
      "cell_type": "code",
      "source": [
        "import matplotlib.pyplot as plt\n",
        "n=10\n",
        "plt.figure(figsize=(20,4))"
      ],
      "metadata": {
        "colab": {
          "base_uri": "https://localhost:8080/",
          "height": 52
        },
        "id": "wTouigcqbZrC",
        "outputId": "61cbfc6a-130d-48fc-b9a3-8c63ee404d94"
      },
      "execution_count": null,
      "outputs": [
        {
          "output_type": "execute_result",
          "data": {
            "text/plain": [
              "<Figure size 2000x400 with 0 Axes>"
            ]
          },
          "metadata": {},
          "execution_count": 19
        },
        {
          "output_type": "display_data",
          "data": {
            "text/plain": [
              "<Figure size 2000x400 with 0 Axes>"
            ]
          },
          "metadata": {}
        }
      ]
    },
    {
      "cell_type": "code",
      "source": [
        "for i in range(n):\n",
        "  ax=plt.subplot(2,n,i+1)\n",
        "  plt.imshow(x_test[i].reshape(28,28))\n",
        "  plt.gray()\n",
        "  ax.get_xaxis().set_visible(False)\n",
        "  ax.get_yaxis().set_visible(False)\n",
        "  ax=plt.subplot(2,n,i+1+n)\n",
        "  plt.imshow(decoded_imgs[i].reshape(28,28))\n",
        "  plt.gray()\n",
        "  ax.get_xaxis().set_visible(False)\n",
        "  ax.get_yaxis().set_visible(False)\n",
        "plt.show()"
      ],
      "metadata": {
        "colab": {
          "base_uri": "https://localhost:8080/",
          "height": 280
        },
        "id": "bhTel7itbtVj",
        "outputId": "6b5eb089-540e-42ba-be83-98736b4cd7c5"
      },
      "execution_count": null,
      "outputs": [
        {
          "output_type": "display_data",
          "data": {
            "text/plain": [
              "<Figure size 640x480 with 20 Axes>"
            ],
            "image/png": "[encoded data removed]"
          },
          "metadata": {}
        }
      ]
    },
    {
      "cell_type": "markdown",
      "source": [
        "2. De-Nosing Auto encoders"
      ],
      "metadata": {
        "id": "Y9vWu59yLwHQ"
      }
    },
    {
      "cell_type": "code",
      "source": [
        "from keras.datasets import mnist\n",
        "import numpy as np\n",
        "(x_train, _),(x_test, _)=mnist.load_data()\n",
        "x_train=x_train.astype('float32')/255\n",
        "x_test=x_test.astype('float32')/255\n",
        "x_train=x_train.reshape((len(x_train),np.prod(x_train.shape[1:])))"
      ],
      "metadata": {
        "id": "09NBodF3dh1G"
      },
      "execution_count": null,
      "outputs": []
    },
    {
      "cell_type": "code",
      "source": [
        "x_test=x_test.reshape((len(x_test),np.prod(x_test.shape[1:])))\n",
        "noise_factor=0.5\n",
        "x_train_noisy=x_train+noise_factor*np.random.normal(loc=0.0,scale=1.0,size=x_train.shape)\n",
        "x_test_noisy=x_test+noise_factor*np.random.normal(loc=0.0,scale=1.0,size=x_test.shape)\n",
        "x_train_noisy=np.clip(x_train_noisy,0.,1,)\n",
        "x_test_noisy=np.clip(x_test_noisy,0.,1.)"
      ],
      "metadata": {
        "id": "2OdCmcTqefXE"
      },
      "execution_count": null,
      "outputs": []
    },
    {
      "cell_type": "code",
      "source": [
        "import matplotlib.pyplot as plt\n",
        "n=10\n",
        "plt.figure(figsize=(20,2))\n",
        "for i in range(1,n+1):\n",
        "  ax=plt.subplot(1,n,i)\n",
        "  plt.imshow(x_test_noisy[i].reshape(28,28))\n",
        "  plt.gray\n",
        "  ax.get_xaxis().set_visible(False)\n",
        "  ax.get_yaxis().set_visible(False)\n",
        "plt.show()"
      ],
      "metadata": {
        "colab": {
          "base_uri": "https://localhost:8080/",
          "height": 97
        },
        "id": "kL0sDJuYgNWf",
        "outputId": "6213553a-a795-4877-bf04-24c4d6f44b97"
      },
      "execution_count": null,
      "outputs": [
        {
          "output_type": "display_data",
          "data": {
            "text/plain": [
              "<Figure size 2000x200 with 10 Axes>"
            ],
            "image/png": "[encoded data removed]"
          },
          "metadata": {}
        }
      ]
    },
    {
      "cell_type": "code",
      "source": [
        "import keras\n",
        "from keras import layers\n",
        "import tensorflow as tf\n",
        "from keras.callbacks import TensorBoard\n",
        "encoding_dim=32\n",
        "input_img=keras.Input(shape=(784,))"
      ],
      "metadata": {
        "id": "Wh0nETZRhVik"
      },
      "execution_count": null,
      "outputs": []
    },
    {
      "cell_type": "code",
      "source": [
        "encoded=layers.Dense(encoding_dim,activation='relu')(input_img)\n",
        "decoded=layers.Dense(784,activation='sigmoid')(encoded)\n",
        "autoencoder=keras.Model(input_img,decoded)\n",
        "autoencoder.compile(optimizer='adam',loss='binary_crossentropy')\n",
        "autoencoder.fit(x_train_noisy,x_train,epochs=100,batch_size=128,shuffle=True,validation_data=(x_test_noisy,x_test),)\n",
        "encoder=keras.Model(input_img,encoded)"
      ],
      "metadata": {
        "colab": {
          "base_uri": "https://localhost:8080/"
        },
        "id": "m8z4ZmdXh69C",
        "outputId": "bf42c1b1-04d5-4092-cd2b-565a15374131"
      },
      "execution_count": null,
      "outputs": [
        {
          "output_type": "stream",
          "name": "stdout",
          "text": [
            "Epoch 1/100\n",
            "469/469 [==============================] - 2s 4ms/step - loss: 0.2438 - val_loss: 0.1844\n",
            "Epoch 2/100\n",
            "469/469 [==============================] - 2s 3ms/step - loss: 0.1700 - val_loss: 0.1550\n",
            "Epoch 3/100\n",
            "469/469 [==============================] - 2s 5ms/step - loss: 0.1490 - val_loss: 0.1414\n",
            "Epoch 4/100\n",
            "469/469 [==============================] - 2s 3ms/step - loss: 0.1391 - val_loss: 0.1344\n",
            "Epoch 5/100\n",
            "469/469 [==============================] - 2s 3ms/step - loss: 0.1336 - val_loss: 0.1307\n",
            "Epoch 6/100\n",
            "469/469 [==============================] - 2s 3ms/step - loss: 0.1307 - val_loss: 0.1284\n",
            "Epoch 7/100\n",
            "469/469 [==============================] - 2s 3ms/step - loss: 0.1290 - val_loss: 0.1275\n",
            "Epoch 8/100\n",
            "469/469 [==============================] - 2s 3ms/step - loss: 0.1284 - val_loss: 0.1272\n",
            "Epoch 9/100\n",
            "469/469 [==============================] - 2s 5ms/step - loss: 0.1280 - val_loss: 0.1268\n",
            "Epoch 10/100\n",
            "469/469 [==============================] - 2s 4ms/step - loss: 0.1277 - val_loss: 0.1268\n",
            "Epoch 11/100\n",
            "469/469 [==============================] - 2s 3ms/step - loss: 0.1275 - val_loss: 0.1265\n",
            "Epoch 12/100\n",
            "469/469 [==============================] - 2s 3ms/step - loss: 0.1273 - val_loss: 0.1261\n",
            "Epoch 13/100\n",
            "469/469 [==============================] - 1s 3ms/step - loss: 0.1271 - val_loss: 0.1260\n",
            "Epoch 14/100\n",
            "469/469 [==============================] - 2s 3ms/step - loss: 0.1270 - val_loss: 0.1259\n",
            "Epoch 15/100\n",
            "469/469 [==============================] - 2s 3ms/step - loss: 0.1268 - val_loss: 0.1257\n",
            "Epoch 16/100\n",
            "469/469 [==============================] - 2s 4ms/step - loss: 0.1267 - val_loss: 0.1257\n",
            "Epoch 17/100\n",
            "469/469 [==============================] - 2s 5ms/step - loss: 0.1266 - val_loss: 0.1255\n",
            "Epoch 18/100\n",
            "469/469 [==============================] - 2s 5ms/step - loss: 0.1265 - val_loss: 0.1254\n",
            "Epoch 19/100\n",
            "469/469 [==============================] - 3s 5ms/step - loss: 0.1263 - val_loss: 0.1253\n",
            "Epoch 20/100\n",
            "469/469 [==============================] - 2s 5ms/step - loss: 0.1262 - val_loss: 0.1251\n",
            "Epoch 21/100\n",
            "469/469 [==============================] - 3s 7ms/step - loss: 0.1261 - val_loss: 0.1251\n",
            "Epoch 22/100\n",
            "469/469 [==============================] - 2s 5ms/step - loss: 0.1260 - val_loss: 0.1248\n",
            "Epoch 23/100\n",
            "469/469 [==============================] - 3s 6ms/step - loss: 0.1259 - val_loss: 0.1250\n",
            "Epoch 24/100\n",
            "469/469 [==============================] - 2s 5ms/step - loss: 0.1258 - val_loss: 0.1248\n",
            "Epoch 25/100\n",
            "469/469 [==============================] - 3s 7ms/step - loss: 0.1257 - val_loss: 0.1246\n",
            "Epoch 26/100\n",
            "469/469 [==============================] - 3s 7ms/step - loss: 0.1256 - val_loss: 0.1246\n",
            "Epoch 27/100\n",
            "469/469 [==============================] - 3s 6ms/step - loss: 0.1256 - val_loss: 0.1245\n",
            "Epoch 28/100\n",
            "469/469 [==============================] - 3s 7ms/step - loss: 0.1255 - val_loss: 0.1246\n",
            "Epoch 29/100\n",
            "469/469 [==============================] - 3s 6ms/step - loss: 0.1254 - val_loss: 0.1243\n",
            "Epoch 30/100\n",
            "469/469 [==============================] - 2s 5ms/step - loss: 0.1254 - val_loss: 0.1243\n",
            "Epoch 31/100\n",
            "469/469 [==============================] - 2s 4ms/step - loss: 0.1253 - val_loss: 0.1244\n",
            "Epoch 32/100\n",
            "469/469 [==============================] - 2s 5ms/step - loss: 0.1253 - val_loss: 0.1242\n",
            "Epoch 33/100\n",
            "469/469 [==============================] - 2s 4ms/step - loss: 0.1252 - val_loss: 0.1243\n",
            "Epoch 34/100\n",
            "469/469 [==============================] - 2s 5ms/step - loss: 0.1252 - val_loss: 0.1242\n",
            "Epoch 35/100\n",
            "469/469 [==============================] - 3s 6ms/step - loss: 0.1252 - val_loss: 0.1240\n",
            "Epoch 36/100\n",
            "469/469 [==============================] - 2s 5ms/step - loss: 0.1251 - val_loss: 0.1241\n",
            "Epoch 37/100\n",
            "469/469 [==============================] - 2s 3ms/step - loss: 0.1251 - val_loss: 0.1241\n",
            "Epoch 38/100\n",
            "469/469 [==============================] - 2s 3ms/step - loss: 0.1251 - val_loss: 0.1241\n",
            "Epoch 39/100\n",
            "469/469 [==============================] - 2s 4ms/step - loss: 0.1250 - val_loss: 0.1240\n",
            "Epoch 40/100\n",
            "469/469 [==============================] - 3s 7ms/step - loss: 0.1250 - val_loss: 0.1240\n",
            "Epoch 41/100\n",
            "469/469 [==============================] - 2s 5ms/step - loss: 0.1251 - val_loss: 0.1239\n",
            "Epoch 42/100\n",
            "469/469 [==============================] - 2s 5ms/step - loss: 0.1250 - val_loss: 0.1243\n",
            "Epoch 43/100\n",
            "469/469 [==============================] - 2s 5ms/step - loss: 0.1250 - val_loss: 0.1242\n",
            "Epoch 44/100\n",
            "469/469 [==============================] - 3s 5ms/step - loss: 0.1250 - val_loss: 0.1239\n",
            "Epoch 45/100\n",
            "469/469 [==============================] - 3s 7ms/step - loss: 0.1250 - val_loss: 0.1239\n",
            "Epoch 46/100\n",
            "469/469 [==============================] - 3s 5ms/step - loss: 0.1249 - val_loss: 0.1240\n",
            "Epoch 47/100\n",
            "469/469 [==============================] - 3s 5ms/step - loss: 0.1249 - val_loss: 0.1239\n",
            "Epoch 48/100\n",
            "469/469 [==============================] - 3s 5ms/step - loss: 0.1250 - val_loss: 0.1242\n",
            "Epoch 49/100\n",
            "469/469 [==============================] - 2s 4ms/step - loss: 0.1249 - val_loss: 0.1238\n",
            "Epoch 50/100\n",
            "469/469 [==============================] - 2s 3ms/step - loss: 0.1249 - val_loss: 0.1240\n",
            "Epoch 51/100\n",
            "469/469 [==============================] - 2s 3ms/step - loss: 0.1249 - val_loss: 0.1238\n",
            "Epoch 52/100\n",
            "469/469 [==============================] - 2s 3ms/step - loss: 0.1249 - val_loss: 0.1239\n",
            "Epoch 53/100\n",
            "469/469 [==============================] - 2s 3ms/step - loss: 0.1249 - val_loss: 0.1241\n",
            "Epoch 54/100\n",
            "469/469 [==============================] - 2s 3ms/step - loss: 0.1249 - val_loss: 0.1241\n",
            "Epoch 55/100\n",
            "469/469 [==============================] - 2s 3ms/step - loss: 0.1249 - val_loss: 0.1239\n",
            "Epoch 56/100\n",
            "469/469 [==============================] - 2s 5ms/step - loss: 0.1248 - val_loss: 0.1239\n",
            "Epoch 57/100\n",
            "469/469 [==============================] - 2s 3ms/step - loss: 0.1249 - val_loss: 0.1238\n",
            "Epoch 58/100\n",
            "469/469 [==============================] - 2s 3ms/step - loss: 0.1248 - val_loss: 0.1238\n",
            "Epoch 59/100\n",
            "469/469 [==============================] - 2s 3ms/step - loss: 0.1248 - val_loss: 0.1237\n",
            "Epoch 60/100\n",
            "469/469 [==============================] - 1s 3ms/step - loss: 0.1248 - val_loss: 0.1237\n",
            "Epoch 61/100\n",
            "469/469 [==============================] - 2s 3ms/step - loss: 0.1248 - val_loss: 0.1237\n",
            "Epoch 62/100\n",
            "469/469 [==============================] - 2s 3ms/step - loss: 0.1248 - val_loss: 0.1238\n",
            "Epoch 63/100\n",
            "469/469 [==============================] - 2s 5ms/step - loss: 0.1248 - val_loss: 0.1238\n",
            "Epoch 64/100\n",
            "469/469 [==============================] - 2s 3ms/step - loss: 0.1248 - val_loss: 0.1238\n",
            "Epoch 65/100\n",
            "469/469 [==============================] - 2s 4ms/step - loss: 0.1247 - val_loss: 0.1239\n",
            "Epoch 66/100\n",
            "469/469 [==============================] - 1s 3ms/step - loss: 0.1247 - val_loss: 0.1238\n",
            "Epoch 67/100\n",
            "469/469 [==============================] - 2s 4ms/step - loss: 0.1247 - val_loss: 0.1237\n",
            "Epoch 68/100\n",
            "469/469 [==============================] - 3s 6ms/step - loss: 0.1247 - val_loss: 0.1237\n",
            "Epoch 69/100\n",
            "469/469 [==============================] - 4s 8ms/step - loss: 0.1247 - val_loss: 0.1238\n",
            "Epoch 70/100\n",
            "469/469 [==============================] - 3s 6ms/step - loss: 0.1247 - val_loss: 0.1237\n",
            "Epoch 71/100\n",
            "469/469 [==============================] - 3s 6ms/step - loss: 0.1247 - val_loss: 0.1238\n",
            "Epoch 72/100\n",
            "469/469 [==============================] - 3s 6ms/step - loss: 0.1247 - val_loss: 0.1236\n",
            "Epoch 73/100\n",
            "469/469 [==============================] - 3s 7ms/step - loss: 0.1247 - val_loss: 0.1236\n",
            "Epoch 74/100\n",
            "469/469 [==============================] - 3s 5ms/step - loss: 0.1247 - val_loss: 0.1237\n",
            "Epoch 75/100\n",
            "469/469 [==============================] - 3s 6ms/step - loss: 0.1246 - val_loss: 0.1237\n",
            "Epoch 76/100\n",
            "469/469 [==============================] - 3s 6ms/step - loss: 0.1246 - val_loss: 0.1237\n",
            "Epoch 77/100\n",
            "469/469 [==============================] - 3s 7ms/step - loss: 0.1246 - val_loss: 0.1236\n",
            "Epoch 78/100\n",
            "469/469 [==============================] - 3s 6ms/step - loss: 0.1246 - val_loss: 0.1236\n",
            "Epoch 79/100\n",
            "469/469 [==============================] - 3s 6ms/step - loss: 0.1246 - val_loss: 0.1235\n",
            "Epoch 80/100\n",
            "469/469 [==============================] - 3s 6ms/step - loss: 0.1246 - val_loss: 0.1235\n",
            "Epoch 81/100\n",
            "469/469 [==============================] - 3s 6ms/step - loss: 0.1246 - val_loss: 0.1235\n",
            "Epoch 82/100\n",
            "469/469 [==============================] - 2s 3ms/step - loss: 0.1245 - val_loss: 0.1236\n",
            "Epoch 83/100\n",
            "469/469 [==============================] - 2s 3ms/step - loss: 0.1245 - val_loss: 0.1237\n",
            "Epoch 84/100\n",
            "469/469 [==============================] - 2s 3ms/step - loss: 0.1245 - val_loss: 0.1235\n",
            "Epoch 85/100\n",
            "469/469 [==============================] - 2s 3ms/step - loss: 0.1245 - val_loss: 0.1235\n",
            "Epoch 86/100\n",
            "469/469 [==============================] - 1s 3ms/step - loss: 0.1245 - val_loss: 0.1235\n",
            "Epoch 87/100\n",
            "469/469 [==============================] - 2s 3ms/step - loss: 0.1245 - val_loss: 0.1234\n",
            "Epoch 88/100\n",
            "469/469 [==============================] - 2s 4ms/step - loss: 0.1245 - val_loss: 0.1235\n",
            "Epoch 89/100\n",
            "469/469 [==============================] - 2s 3ms/step - loss: 0.1245 - val_loss: 0.1235\n",
            "Epoch 90/100\n",
            "469/469 [==============================] - 1s 3ms/step - loss: 0.1244 - val_loss: 0.1235\n",
            "Epoch 91/100\n",
            "469/469 [==============================] - 1s 3ms/step - loss: 0.1244 - val_loss: 0.1235\n",
            "Epoch 92/100\n",
            "469/469 [==============================] - 2s 3ms/step - loss: 0.1245 - val_loss: 0.1233\n",
            "Epoch 93/100\n",
            "469/469 [==============================] - 2s 3ms/step - loss: 0.1244 - val_loss: 0.1234\n",
            "Epoch 94/100\n",
            "469/469 [==============================] - 2s 3ms/step - loss: 0.1244 - val_loss: 0.1234\n",
            "Epoch 95/100\n",
            "469/469 [==============================] - 2s 5ms/step - loss: 0.1244 - val_loss: 0.1233\n",
            "Epoch 96/100\n",
            "469/469 [==============================] - 2s 3ms/step - loss: 0.1244 - val_loss: 0.1235\n",
            "Epoch 97/100\n",
            "469/469 [==============================] - 2s 3ms/step - loss: 0.1243 - val_loss: 0.1233\n",
            "Epoch 98/100\n",
            "469/469 [==============================] - 2s 3ms/step - loss: 0.1244 - val_loss: 0.1233\n",
            "Epoch 99/100\n",
            "469/469 [==============================] - 1s 3ms/step - loss: 0.1243 - val_loss: 0.1234\n",
            "Epoch 100/100\n",
            "469/469 [==============================] - 2s 3ms/step - loss: 0.1243 - val_loss: 0.1234\n"
          ]
        }
      ]
    },
    {
      "cell_type": "code",
      "source": [
        "encoded_input=keras.Input(shape=(encoding_dim,))\n",
        "decoded_layer=autoencoder.layers[-1]\n",
        "decoder=keras.Model(encoded_input,decoder_layer(encoded_input))\n",
        "encoded_imgs=encoder.predict(x_test_noisy)\n",
        "decoded_imgs=decoder.predict(encoded_imgs)"
      ],
      "metadata": {
        "colab": {
          "base_uri": "https://localhost:8080/"
        },
        "id": "blWOlBvAjR5N",
        "outputId": "4214a163-84d5-43f4-930b-f02ca3fc5545"
      },
      "execution_count": null,
      "outputs": [
        {
          "output_type": "stream",
          "name": "stdout",
          "text": [
            "313/313 [==============================] - 0s 879us/step\n",
            "313/313 [==============================] - 0s 903us/step\n"
          ]
        }
      ]
    },
    {
      "cell_type": "code",
      "source": [
        "import matplotlib.pyplot as plt\n",
        "n=10\n",
        "plt.figure(figsize=(20,4))\n",
        "for i in range(n):\n",
        "  ax=plt.subplot(2,n,i+1+n)\n",
        "  plt.imshow(decoded_imgs[i].reshape(28,28))\n",
        "  plt.gray()\n",
        "  ax.get_xaxis().set_visible(False)\n",
        "  ax.get_yaxis().set_visible(False)\n",
        "  ax=plt.subplot(2,n,i+1+n)\n",
        "  plt.imshow(decoded_imgs[i].reshape(28,28))\n",
        "  plt.gray()\n",
        "  ax.get_xaxis().set_visible(False)\n",
        "  ax.get_yaxis().set_visible(False)\n",
        "plt.show()"
      ],
      "metadata": {
        "colab": {
          "base_uri": "https://localhost:8080/",
          "height": 97
        },
        "id": "3eCt6ORskRRv",
        "outputId": "fddc92c3-37ae-42f7-a6b9-3171626ab209"
      },
      "execution_count": null,
      "outputs": [
        {
          "output_type": "display_data",
          "data": {
            "text/plain": [
              "<Figure size 2000x400 with 10 Axes>"
            ],
            "image/png": "[encoded data removed]"
          },
          "metadata": {}
        }
      ]
    },
    {
      "cell_type": "markdown",
      "source": [
        "3. Dimensionality Reduction"
      ],
      "metadata": {
        "id": "I90NKeGSMdaB"
      }
    },
    {
      "cell_type": "code",
      "source": [
        "import numpy as np\n",
        "from keras.layers import Input, Dense\n",
        "from keras.models import Model\n",
        "from keras.datasets import mnist\n",
        "import matplotlib.pyplot as plt\n",
        "# Load the MNIST dataset\n",
        "(x_train, _), (x_test, _) = mnist.load_data()\n",
        "# Normalize and flatten the data\n",
        "x_train = x_train.astype('float32') / 255.0\n",
        "x_test = x_test.astype('float32') / 255.0\n",
        "x_train = x_train.reshape((len(x_train), np.prod(x_train.shape[1:])))\n",
        "x_test = x_test.reshape((len(x_test), np.prod(x_test.shape[1:])))\n",
        "# Set the dimensions of the encoded representation\n",
        "encoding_dim = 32 # 32 floats, the compressed representation of the input\n",
        "# Input placeholder\n",
        "input_img = Input(shape=(784,))\n",
        "# Encoded representation of the input\n",
        "encoded = Dense(encoding_dim, activation='relu')(input_img)\n",
        "# Decoded is the lossy reconstruction of the input\n",
        "decoded = Dense(784, activation='sigmoid')(encoded)\n",
        "# Autoencoder model\n",
        "autoencoder = Model(input_img, decoded)\n",
        "# Separate Encoder model\n",
        "encoder = Model(input_img, encoded)\n",
        "# Separate Decoder model\n",
        "# Create a placeholder for an encoded (32-dimensional) input\n",
        "encoded_input = Input(shape=(encoding_dim,))\n",
        "# Retrieve the last layer of the autoencoder model\n",
        "decoder_layer = autoencoder.layers[-1]\n",
        "# Create the decoder model\n",
        "decoder = Model(encoded_input, decoder_layer(encoded_input))\n",
        "# Compile the autoencoder\n",
        "autoencoder.compile(optimizer='adam', loss='binary_crossentropy')\n",
        "# Train the autoencoder\n",
        "autoencoder.fit(x_train, x_train,\n",
        " epochs=50,\n",
        " batch_size=256,\n",
        " shuffle=True,validation_data=(x_test, x_test))\n",
        "# Encode and decode some digits\n",
        "encoded_imgs = encoder.predict(x_test)\n",
        "decoded_imgs = decoder.predict(encoded_imgs)\n",
        "# Plotting the results\n",
        "n = 10 # How many digits we will display\n",
        "plt.figure(figsize=(20, 4))\n",
        "for i in range(n):\n",
        " # Display original images\n",
        " ax = plt.subplot(2, n, i + 1)\n",
        " plt.imshow(x_test[i].reshape(28, 28))\n",
        " plt.gray()\n",
        " ax.get_xaxis().set_visible(False)\n",
        " ax.get_yaxis().set_visible(False)\n",
        " # Display reconstructed images\n",
        " ax = plt.subplot(2, n, i + 1 + n)\n",
        " plt.imshow(decoded_imgs[i].reshape(28, 28))\n",
        " plt.gray()\n",
        " ax.get_xaxis().set_visible(False)\n",
        " ax.get_yaxis().set_visible(False)\n",
        "plt.show()\n",
        "\n"
      ],
      "metadata": {
        "colab": {
          "base_uri": "https://localhost:8080/",
          "height": 1000
        },
        "id": "631j61TiMgcD",
        "outputId": "cb80af30-b020-49ef-d8b8-12508d520c0a"
      },
      "execution_count": 5,
      "outputs": [
        {
          "output_type": "stream",
          "name": "stdout",
          "text": [
            "Downloading data from https://storage.googleapis.com/tensorflow/tf-keras-datasets/mnist.npz\n",
            "11490434/11490434 [==============================] - 0s 0us/step\n",
            "Epoch 1/50\n",
            "235/235 [==============================] - 3s 9ms/step - loss: 0.2751 - val_loss: 0.1908\n",
            "Epoch 2/50\n",
            "235/235 [==============================] - 2s 8ms/step - loss: 0.1720 - val_loss: 0.1553\n",
            "Epoch 3/50\n",
            "235/235 [==============================] - 2s 8ms/step - loss: 0.1457 - val_loss: 0.1350\n",
            "Epoch 4/50\n",
            "235/235 [==============================] - 2s 9ms/step - loss: 0.1296 - val_loss: 0.1220\n",
            "Epoch 5/50\n",
            "235/235 [==============================] - 3s 12ms/step - loss: 0.1186 - val_loss: 0.1130\n",
            "Epoch 6/50\n",
            "235/235 [==============================] - 2s 8ms/step - loss: 0.1110 - val_loss: 0.1069\n",
            "Epoch 7/50\n",
            "235/235 [==============================] - 2s 8ms/step - loss: 0.1057 - val_loss: 0.1023\n",
            "Epoch 8/50\n",
            "235/235 [==============================] - 2s 8ms/step - loss: 0.1019 - val_loss: 0.0993\n",
            "Epoch 9/50\n",
            "235/235 [==============================] - 2s 8ms/step - loss: 0.0993 - val_loss: 0.0970\n",
            "Epoch 10/50\n",
            "235/235 [==============================] - 3s 13ms/step - loss: 0.0974 - val_loss: 0.0955\n",
            "Epoch 11/50\n",
            "235/235 [==============================] - 4s 18ms/step - loss: 0.0962 - val_loss: 0.0946\n",
            "Epoch 12/50\n",
            "235/235 [==============================] - 2s 8ms/step - loss: 0.0954 - val_loss: 0.0939\n",
            "Epoch 13/50\n",
            "235/235 [==============================] - 2s 8ms/step - loss: 0.0949 - val_loss: 0.0935\n",
            "Epoch 14/50\n",
            "235/235 [==============================] - 2s 8ms/step - loss: 0.0946 - val_loss: 0.0931\n",
            "Epoch 15/50\n",
            "235/235 [==============================] - 2s 9ms/step - loss: 0.0943 - val_loss: 0.0930\n",
            "Epoch 16/50\n",
            "235/235 [==============================] - 3s 11ms/step - loss: 0.0941 - val_loss: 0.0928\n",
            "Epoch 17/50\n",
            "235/235 [==============================] - 2s 8ms/step - loss: 0.0940 - val_loss: 0.0927\n",
            "Epoch 18/50\n",
            "235/235 [==============================] - 2s 10ms/step - loss: 0.0938 - val_loss: 0.0925\n",
            "Epoch 19/50\n",
            "235/235 [==============================] - 3s 14ms/step - loss: 0.0937 - val_loss: 0.0924\n",
            "Epoch 20/50\n",
            "235/235 [==============================] - 4s 19ms/step - loss: 0.0936 - val_loss: 0.0924\n",
            "Epoch 21/50\n",
            "235/235 [==============================] - 3s 11ms/step - loss: 0.0935 - val_loss: 0.0923\n",
            "Epoch 22/50\n",
            "235/235 [==============================] - 2s 8ms/step - loss: 0.0935 - val_loss: 0.0922\n",
            "Epoch 23/50\n",
            "235/235 [==============================] - 2s 9ms/step - loss: 0.0934 - val_loss: 0.0923\n",
            "Epoch 24/50\n",
            "235/235 [==============================] - 2s 8ms/step - loss: 0.0933 - val_loss: 0.0921\n",
            "Epoch 25/50\n",
            "235/235 [==============================] - 2s 9ms/step - loss: 0.0933 - val_loss: 0.0921\n",
            "Epoch 26/50\n",
            "235/235 [==============================] - 3s 11ms/step - loss: 0.0932 - val_loss: 0.0921\n",
            "Epoch 27/50\n",
            "235/235 [==============================] - 2s 8ms/step - loss: 0.0932 - val_loss: 0.0920\n",
            "Epoch 28/50\n",
            "235/235 [==============================] - 2s 10ms/step - loss: 0.0931 - val_loss: 0.0920\n",
            "Epoch 29/50\n",
            "235/235 [==============================] - 2s 10ms/step - loss: 0.0931 - val_loss: 0.0919\n",
            "Epoch 30/50\n",
            "235/235 [==============================] - 2s 8ms/step - loss: 0.0931 - val_loss: 0.0919\n",
            "Epoch 31/50\n",
            "235/235 [==============================] - 2s 10ms/step - loss: 0.0930 - val_loss: 0.0919\n",
            "Epoch 32/50\n",
            "235/235 [==============================] - 2s 9ms/step - loss: 0.0930 - val_loss: 0.0919\n",
            "Epoch 33/50\n",
            "235/235 [==============================] - 2s 8ms/step - loss: 0.0930 - val_loss: 0.0920\n",
            "Epoch 34/50\n",
            "235/235 [==============================] - 2s 8ms/step - loss: 0.0930 - val_loss: 0.0918\n",
            "Epoch 35/50\n",
            "235/235 [==============================] - 2s 8ms/step - loss: 0.0929 - val_loss: 0.0917\n",
            "Epoch 36/50\n",
            "235/235 [==============================] - 2s 8ms/step - loss: 0.0929 - val_loss: 0.0918\n",
            "Epoch 37/50\n",
            "235/235 [==============================] - 2s 10ms/step - loss: 0.0929 - val_loss: 0.0917\n",
            "Epoch 38/50\n",
            "235/235 [==============================] - 2s 10ms/step - loss: 0.0928 - val_loss: 0.0918\n",
            "Epoch 39/50\n",
            "235/235 [==============================] - 2s 9ms/step - loss: 0.0928 - val_loss: 0.0917\n",
            "Epoch 40/50\n",
            "235/235 [==============================] - 2s 8ms/step - loss: 0.0928 - val_loss: 0.0917\n",
            "Epoch 41/50\n",
            "235/235 [==============================] - 2s 8ms/step - loss: 0.0928 - val_loss: 0.0917\n",
            "Epoch 42/50\n",
            "235/235 [==============================] - 2s 8ms/step - loss: 0.0928 - val_loss: 0.0916\n",
            "Epoch 43/50\n",
            "235/235 [==============================] - 3s 11ms/step - loss: 0.0927 - val_loss: 0.0916\n",
            "Epoch 44/50\n",
            "235/235 [==============================] - 2s 9ms/step - loss: 0.0927 - val_loss: 0.0918\n",
            "Epoch 45/50\n",
            "235/235 [==============================] - 2s 8ms/step - loss: 0.0927 - val_loss: 0.0916\n",
            "Epoch 46/50\n",
            "235/235 [==============================] - 2s 8ms/step - loss: 0.0927 - val_loss: 0.0917\n",
            "Epoch 47/50\n",
            "235/235 [==============================] - 2s 8ms/step - loss: 0.0927 - val_loss: 0.0916\n",
            "Epoch 48/50\n",
            "235/235 [==============================] - 2s 8ms/step - loss: 0.0927 - val_loss: 0.0916\n",
            "Epoch 49/50\n",
            "235/235 [==============================] - 3s 11ms/step - loss: 0.0927 - val_loss: 0.0916\n",
            "Epoch 50/50\n",
            "235/235 [==============================] - 2s 9ms/step - loss: 0.0927 - val_loss: 0.0916\n",
            "313/313 [==============================] - 0s 1ms/step\n",
            "313/313 [==============================] - 0s 1ms/step\n"
          ]
        },
        {
          "output_type": "display_data",
          "data": {
            "text/plain": [
              "<Figure size 2000x400 with 20 Axes>"
            ],
            "image/png": "[encoded data removed]"
          },
          "metadata": {}
        }
      ]
    },
    {
      "cell_type": "markdown",
      "source": [
        "Yolo"
      ],
      "metadata": {
        "id": "63Z0_6iCM7bS"
      }
    },
    {
      "cell_type": "code",
      "source": [
        "net = cv.dnn.readNetFromDarknet('yolov3.cfg', 'yolov3.weights')\n",
        "net.setPreferableBackend(cv.dnn.DNN_BACKEND_OPENCV)\n",
        "ln = net.getLayerNames()\n",
        "print(len(ln), ln)\n",
        "blob = cv.dnn.blobFromImage(img, 1/255.0, (416, 416), swapRB=True, crop=False)\n",
        "# YOLO object detection\n",
        "import cv2 as cv\n",
        "import numpy as np\n",
        "import time\n",
        "\n",
        "img = cv.imread('images/horse.jpg')\n",
        "cv.imshow('window',  img)\n",
        "cv.waitKey(1)\n",
        "\n",
        "# Give the configuration and weight files for the model and load the network.\n",
        "net = cv.dnn.readNetFromDarknet('yolov3.cfg', 'yolov3.weights')\n",
        "net.setPreferableBackend(cv.dnn.DNN_BACKEND_OPENCV)\n",
        "# net.setPreferableTarget(cv.dnn.DNN_TARGET_CPU)\n",
        "\n",
        "ln = net.getLayerNames()\n",
        "print(len(ln), ln)\n",
        "\n",
        "# construct a blob from the image\n",
        "blob = cv.dnn.blobFromImage(img, 1/255.0, (416, 416), swapRB=True, crop=False)\n",
        "r = blob[0, 0, :, :]\n",
        "\n",
        "cv.imshow('blob', r)\n",
        "text = f'Blob shape={blob.shape}'\n",
        "cv.displayOverlay('blob', text)\n",
        "cv.waitKey(1)\n",
        "\n",
        "net.setInput(blob)\n",
        "t0 = time.time()\n",
        "outputs = net.forward(ln)\n",
        "t = time.time()\n",
        "\n",
        "cv.displayOverlay('window', f'forward propagation time={t-t0}')\n",
        "cv.imshow('window',  img)\n",
        "cv.waitKey(0)\n",
        "cv.destroyAllWindows()\n",
        "net.setInput(blob)\n",
        "t0 = time.time()\n",
        "outputs = net.forward(ln)\n",
        "t = time.time()\n",
        "net.setInput(blob)\n",
        "outputs = net.forward(ln)\n",
        "# YOLO object detection\n",
        "import cv2 as cv\n",
        "import numpy as np\n",
        "import time\n",
        "\n",
        "img = cv.imread('images/food.jpg')\n",
        "cv.imshow('window',  img)\n",
        "cv.waitKey(1)\n",
        "\n",
        "# Load names of classes and get random colors\n",
        "classes = open('coco.names').read().strip().split('\\n')\n",
        "np.random.seed(42)\n",
        "colors = np.random.randint(0, 255, size=(len(classes), 3), dtype='uint8')\n",
        "\n",
        "# Give the configuration and weight files for the model and load the network.\n",
        "net = cv.dnn.readNetFromDarknet('yolov3.cfg', 'yolov3.weights')\n",
        "net.setPreferableBackend(cv.dnn.DNN_BACKEND_OPENCV)\n",
        "# net.setPreferableTarget(cv.dnn.DNN_TARGET_CPU)\n",
        "\n",
        "# determine the output layer\n",
        "ln = net.getLayerNames()\n",
        "ln = [ln[i[0] - 1] for i in net.getUnconnectedOutLayers()]\n",
        "\n",
        "# construct a blob from the image\n",
        "blob = cv.dnn.blobFromImage(img, 1/255.0, (416, 416), swapRB=True, crop=False)\n",
        "r = blob[0, 0, :, :]\n",
        "\n",
        "cv.imshow('blob', r)\n",
        "text = f'Blob shape={blob.shape}'\n",
        "cv.displayOverlay('blob', text)\n",
        "cv.waitKey(1)\n",
        "\n",
        "net.setInput(blob)\n",
        "t0 = time.time()\n",
        "outputs = net.forward(ln)\n",
        "t = time.time()\n",
        "print('time=', t-t0)\n",
        "\n",
        "print(len(outputs))\n",
        "for out in outputs:\n",
        "    print(out.shape)\n",
        "\n",
        "def trackbar2(x):\n",
        "    confidence = x/100\n",
        "    r = r0.copy()\n",
        "    for output in np.vstack(outputs):\n",
        "        if output[4] > confidence:\n",
        "            x, y, w, h = output[:4]\n",
        "            p0 = int((x-w/2)*416), int((y-h/2)*416)\n",
        "            p1 = int((x+w/2)*416), int((y+h/2)*416)\n",
        "            cv.rectangle(r, p0, p1, 1, 1)\n",
        "    cv.imshow('blob', r)\n",
        "    text = f'Bbox confidence={confidence}'\n",
        "    cv.displayOverlay('blob', text)\n",
        "\n",
        "r0 = blob[0, 0, :, :]\n",
        "r = r0.copy()\n",
        "cv.imshow('blob', r)\n",
        "cv.createTrackbar('confidence', 'blob', 50, 101, trackbar2)\n",
        "trackbar2(50)\n",
        "\n",
        "boxes = []\n",
        "confidences = []\n",
        "classIDs = []\n",
        "h, w = img.shape[:2]\n",
        "\n",
        "for output in outputs:\n",
        "    for detection in output:\n",
        "        scores = detection[5:]\n",
        "        classID = np.argmax(scores)\n",
        "        confidence = scores[classID]\n",
        "        if confidence > 0.5:\n",
        "            box = detection[:4] * np.array([w, h, w, h])\n",
        "            (centerX, centerY, width, height) = box.astype(\"int\")\n",
        "            x = int(centerX - (width / 2))\n",
        "            y = int(centerY - (height / 2))\n",
        "            box = [x, y, int(width), int(height)]\n",
        "            boxes.append(box)\n",
        "            confidences.append(float(confidence))\n",
        "            classIDs.append(classID)\n",
        "\n",
        "indices = cv.dnn.NMSBoxes(boxes, confidences, 0.5, 0.4)\n",
        "if len(indices) > 0:\n",
        "    for i in indices.flatten():\n",
        "        (x, y) = (boxes[i][0], boxes[i][1])\n",
        "        (w, h) = (boxes[i][2], boxes[i][3])\n",
        "        color = [int(c) for c in colors[classIDs[i]]]\n",
        "        cv.rectangle(img, (x, y), (x + w, y + h), color, 2)\n",
        "        text = \"{}: {:.4f}\".format(classes[classIDs[i]], confidences[i])\n",
        "        cv.putText(img, text, (x, y - 5), cv.FONT_HERSHEY_SIMPLEX, 0.5, color, 1)\n",
        "\n",
        "cv.imshow('window', img)\n",
        "cv.waitKey(0)\n",
        "cv.destroyAllWindows()\n",
        "# YOLO object detection\n",
        "import cv2 as cv\n",
        "import numpy as np\n",
        "import time\n",
        "\n",
        "WHITE = (255, 255, 255)\n",
        "img = None\n",
        "img0 = None\n",
        "outputs = None\n",
        "\n",
        "# Load names of classes and get random colors\n",
        "classes = open('coco.names').read().strip().split('\\n')\n",
        "np.random.seed(42)\n",
        "colors = np.random.randint(0, 255, size=(len(classes), 3), dtype='uint8')\n",
        "\n",
        "# Give the configuration and weight files for the model and load the network.\n",
        "net = cv.dnn.readNetFromDarknet('yolov3.cfg', 'yolov3.weights')\n",
        "net.setPreferableBackend(cv.dnn.DNN_BACKEND_OPENCV)\n",
        "# net.setPreferableTarget(cv.dnn.DNN_TARGET_CPU)\n",
        "\n",
        "# determine the output layer\n",
        "ln = net.getLayerNames()\n",
        "ln = [ln[i[0] - 1] for i in net.getUnconnectedOutLayers()]\n",
        "\n",
        "def load_image(path):\n",
        "    global img, img0, outputs, ln\n",
        "\n",
        "    img0 = cv.imread(path)\n",
        "    img = img0.copy()\n",
        "\n",
        "    blob = cv.dnn.blobFromImage(img, 1/255.0, (416, 416), swapRB=True, crop=False)\n",
        "\n",
        "    net.setInput(blob)\n",
        "    t0 = time.time()\n",
        "    outputs = net.forward(ln)\n",
        "    t = time.time() - t0\n",
        "\n",
        "    # combine the 3 output groups into 1 (10647, 85)\n",
        "    # large objects (507, 85)\n",
        "    # medium objects (2028, 85)\n",
        "    # small objects (8112, 85)\n",
        "    outputs = np.vstack(outputs)\n",
        "\n",
        "    post_process(img, outputs, 0.5)\n",
        "    cv.imshow('window',  img)\n",
        "    cv.displayOverlay('window', f'forward propagation time={t:.3}')\n",
        "    cv.waitKey(0)\n",
        "\n",
        "def post_process(img, outputs, conf):\n",
        "    H, W = img.shape[:2]\n",
        "\n",
        "    boxes = []\n",
        "    confidences = []\n",
        "    classIDs = []\n",
        "\n",
        "    for output in outputs:\n",
        "        scores = output[5:]\n",
        "        classID = np.argmax(scores)\n",
        "        confidence = scores[classID]\n",
        "        if confidence > conf:\n",
        "            x, y, w, h = output[:4] * np.array([W, H, W, H])\n",
        "            p0 = int(x - w//2), int(y - h//2)\n",
        "            p1 = int(x + w//2), int(y + h//2)\n",
        "            boxes.append([*p0, int(w), int(h)])\n",
        "            confidences.append(float(confidence))\n",
        "            classIDs.append(classID)\n",
        "            # cv.rectangle(img, p0, p1, WHITE, 1)\n",
        "\n",
        "    indices = cv.dnn.NMSBoxes(boxes, confidences, conf, conf-0.1)\n",
        "    if len(indices) > 0:\n",
        "        for i in indices.flatten():\n",
        "            (x, y) = (boxes[i][0], boxes[i][1])\n",
        "            (w, h) = (boxes[i][2], boxes[i][3])\n",
        "            color = [int(c) for c in colors[classIDs[i]]]\n",
        "            cv.rectangle(img, (x, y), (x + w, y + h), color, 2)\n",
        "            text = \"{}: {:.4f}\".format(classes[classIDs[i]], confidences[i])\n",
        "            cv.putText(img, text, (x, y - 5), cv.FONT_HERSHEY_SIMPLEX, 0.5, color, 1)\n",
        "\n",
        "def trackbar(x):\n",
        "    global img\n",
        "    conf = x/100\n",
        "    img = img0.copy()\n",
        "    post_process(img, outputs, conf)\n",
        "    cv.displayOverlay('window', f'confidence level={conf}')\n",
        "    cv.imshow('window', img)\n",
        "\n",
        "cv.namedWindow('window')\n",
        "cv.createTrackbar('confidence', 'window', 50, 100, trackbar)\n",
        "load_image('images/horse.jpg')\n",
        "load_image('images/traffic.jpg')\n",
        "load_image('images/zoo.jpg')\n",
        "load_image('images/kitchen.jpg')\n",
        "load_image('images/airport.jpg')\n",
        "load_image('images/tennis.jpg')\n",
        "load_image('images/wine.jpg')\n",
        "load_image('images/bicycle.jpg')\n",
        "\n",
        "cv.destroyAllWindows()"
      ],
      "metadata": {
        "id": "v8M1Iykg_3TZ"
      },
      "execution_count": null,
      "outputs": []
    },
    {
      "cell_type": "code",
      "source": [],
      "metadata": {
        "id": "EK1ezewy_9nG"
      },
      "execution_count": null,
      "outputs": []
    },
    {
      "cell_type": "markdown",
      "source": [],
      "metadata": {
        "id": "tIa4kc_f6Lou"
      }
    }
  ]
}